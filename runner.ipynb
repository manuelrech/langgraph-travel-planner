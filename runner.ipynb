{
 "cells": [
  {
   "cell_type": "markdown",
   "metadata": {},
   "source": [
    "# Travel Planner\n",
    "\n",
    "Make sure you start the redis server before running this notebook (`redis-server` from terminal)."
   ]
  },
  {
   "cell_type": "code",
   "execution_count": 1,
   "metadata": {},
   "outputs": [],
   "source": [
    "from src.manager import Manager\n",
    "from IPython.display import Markdown, display\n",
    "\n",
    "manager = Manager()"
   ]
  },
  {
   "cell_type": "code",
   "execution_count": 4,
   "metadata": {},
   "outputs": [
    {
     "name": "stdout",
     "output_type": "stream",
     "text": [
      "Context enricher: getting more info from the user ...\n",
      "\n",
      "User input summary: reformulating user input with new information from the conversation ...\n",
      "\n",
      "Planner: generating two proposals for the trip ...\n",
      "\n",
      " --- Plan A --- \n"
     ]
    },
    {
     "data": {
      "text/markdown": [
       "### Plan A Revised: Ultimate Amsterdam Experience\n",
       "\n",
       "**Day 1: February 21 (Friday): Arrival & Evening Exploration**\n",
       "- **Midday: Arrival in Amsterdam**  \n",
       "  - Safely stow your luggage and get ready for your Amsterdam excursion.\n",
       "  \n",
       "- **Afternoon: Discover the City Center**  \n",
       "  - Stroll through the bustling Dam Square and marvel at the Royal Palace.\n",
       "  - Explore the famed canals of the Red Light District, soaking up the lively vibe.\n",
       "  \n",
       "- **Evening: Coffee Shop Experience**  \n",
       "  - Start with an iconic visit to The Bulldog cafe, where the city's cannabis culture thrives.  \n",
       "  - Conclude with a picturesque evening canal cruise, relishing views of the illuminated cityscape.\n",
       "\n",
       "**Day 2: February 22 (Saturday): Cultural and Recreational Activities**\n",
       "- **Morning: Art and History**  \n",
       "  - Dive into creativity at the Van Gogh Museum, examining world-renowned art.\n",
       "  - Reflect on history at the Anne Frank House, enriching your understanding of the past.\n",
       "  \n",
       "- **Afternoon: Vondelpark and Lunch**  \n",
       "  - Bask in nature at Vondelpark, enjoy a bike ride or a relaxing cart picnicking under lush trees.  \n",
       "  - Discover gem-like cafes in the Jordaan neighborhood for a delightful lunch.\n",
       "  \n",
       "- **Evening: Experience and Snacks**  \n",
       "  - Mingle with locals and tourists at Barney's coffee shop for a laid-back evening.\n",
       "  - Enjoy international cuisine at Foodhallen, with a wide choice of European and global flavors.\n",
       "\n",
       "**Day 3: February 23 (Sunday): Last Exploration and Departure**\n",
       "- **Morning: Waterland Adventure**  \n",
       "  - Feel the liberating breeze as you cycle the scenic paths of Waterland, ideal for unwinding.\n",
       "  \n",
       "- **Afternoon: Final Site Visits**  \n",
       "  - Elevate your perspective with a visit to A'DAM Lookout, offering sweeping views.\n",
       "  - Cap off with a venture through the vibrant and diverse De Pijp district.\n",
       "  \n",
       "- **Evening: Departure**  \n",
       "  - Enjoy a relaxed farewell to Amsterdam, cherishing the memories as you return to Milan."
      ],
      "text/plain": [
       "<IPython.core.display.Markdown object>"
      ]
     },
     "metadata": {},
     "output_type": "display_data"
    },
    {
     "name": "stdout",
     "output_type": "stream",
     "text": [
      " --- Plan B --- \n"
     ]
    },
    {
     "data": {
      "text/markdown": [
       "### Plan B: Immersive Amsterdam Adventure\n",
       "\n",
       "**Day 1: February 21 (Friday): Arrival and Evening Highlights**\n",
       "- **Midday: Arrival in Amsterdam**  \n",
       "  - Settle into your temporary abode and prepare for your explorations.\n",
       "  \n",
       "- **Afternoon: City Sights**  \n",
       "  - Capture the magic atop A'DAM Lookout, enjoying panoramic city views.\n",
       "  - Meander through Negen Straatjes, famous for their charming shops and eateries.\n",
       "  \n",
       "- **Evening: Nightlife and Culture**  \n",
       "  - Visit Green House coffee shop, renowned for its premier selection and ambiance.  \n",
       "  - Experience the vibrancy of Leidseplein with live music or theatrical showcases.\n",
       "\n",
       "**Day 2: February 22 (Saturday): Cultural Connection & Cuisine**\n",
       "- **Morning: Exploration and Education**  \n",
       "  - Delve into the Cannabis College to deepen your understanding of local cannabis.\n",
       "  - Ponder at the Rembrandt House Museum or indulge in Rijksmuseum's extensive collection.\n",
       "  \n",
       "- **Afternoon: Markets and Munchies**  \n",
       "  - Tantalize your taste buds at Albert Cuyp Market in De Pijp with street delicacies.\n",
       "  - Refresh at Boerejongens, frequently rated as a favorite by the locals.  \n",
       "  \n",
       "- **Evening: Gastronomic Revelry**  \n",
       "  - Enjoy a charming dinner alongside Jordaan’s canals, sampling exquisite Dutch fare.  \n",
       "  - Relish authentic Indonesian dishes or Dutch pancakes, favored by locals and tourists alike.\n",
       "\n",
       "**Day 3: February 23 (Sunday): Wrap-Up with Wonders**\n",
       "- **Morning: Discover Hidden Gems**  \n",
       "  - Discover tranquility at Botanical Gardens or explore the children's joy at NEMO Science Museum.\n",
       "\n",
       "- **Afternoon: Reflective Farewell**  \n",
       "  - Relax at Grey Area coffee shop, a cozy venue for both culture enthusiasts and newcomers.\n",
       "  - Cherish a walk through Hortus Botanicus, absorbing its natural splendor.\n",
       "\n",
       "- **Evening: Departure**  \n",
       "  - Soak up one last city view from your favorite spot before heading back to Milan, filled with fascinating insights and lasting memories.  \n"
      ],
      "text/plain": [
       "<IPython.core.display.Markdown object>"
      ]
     },
     "metadata": {},
     "output_type": "display_data"
    },
    {
     "name": "stdout",
     "output_type": "stream",
     "text": [
      "Researchers manager: deciding which agent to call next ...\n",
      "\n",
      "Trip finalizer: creating a final summary of the trip ...\n",
      "\n"
     ]
    }
   ],
   "source": [
    "request = 'I want to go to Amsterdam for a weekend to visit the city'\n",
    "res = manager.invoke(\n",
    "    inputs={\n",
    "        'user_input': request\n",
    "    },\n",
    ")"
   ]
  },
  {
   "cell_type": "code",
   "execution_count": 5,
   "metadata": {},
   "outputs": [
    {
     "data": {
      "text/markdown": [
       "### Final Summary of Your Amsterdam Weekend Trip\n",
       "\n",
       "**Travel Dates:** February 21 - 23, 2025\n",
       "\n",
       "**Flight Options:**\n",
       "- **Milan to Amsterdam (February 21, 2025):**\n",
       "  - **Option 1:** Departure: 6:20 AM, Arrival: 12:55 PM (1 stop via Lisbon) - €131.39\n",
       "  - **Option 2:** Departure: 9:30 AM, Arrival: 5:45 PM (1 stop via Belgrade) - €120.51\n",
       "  - **Option 3:** Departure: 11:05 AM, Arrival next day at 8:45 AM (1 stop via Athens) - €115.92\n",
       "\n",
       "- **Amsterdam to Milan (February 23, 2025):**\n",
       "  - Direct Flight: Departure 2:35 PM, Arrival 4:35 PM - €232.53\n",
       "\n",
       "The recommended option for a timely arrival in Amsterdam is the 6:20 AM flight via Lisbon, allowing you to maximize your first day.\n",
       "\n",
       "**Accommodation Options in Amsterdam:**\n",
       "1. **ITC Hotel Amsterdam**\n",
       "   - Price: $277.99 (Non-refundable)\n",
       "   - Experience: Budget-friendly\n",
       "   - Double Basic Room, free WiFi\n",
       "\n",
       "2. **Hotel Cornelisz**\n",
       "   - Price: $353.10 (Refundable until February 20, 2025)\n",
       "   - Experience: Centrally located\n",
       "   - Twin Room, safety deposit box\n",
       "\n",
       "3. **Hilton Amsterdam**\n",
       "   - Price: $365.02 (Non-refundable)\n",
       "   - Experience: Luxurious\n",
       "   - King Deluxe Room, city view\n",
       "\n",
       "4. **Best Western Dam Square Inn**\n",
       "   - Price: $356.76 (Non-refundable)\n",
       "   - Experience: Historic charm\n",
       "   - Standard Room, continental breakfast included\n",
       "\n",
       "5. **Best Western Zaan Inn**\n",
       "   - Price: $247.30 (Non-refundable)\n",
       "   - Experience: Good value, modern comforts\n",
       "   - Standard Room, includes amenities like shower, safe, minibar\n",
       "\n",
       "**Proposed Plan: Ultimate Amsterdam Experience**\n",
       "\n",
       "- **Day 1: Friday, February 21**\n",
       "  - Arrival in Amsterdam around midday.\n",
       "  - Explore Dam Square, Royal Palace, and the Red Light District.\n",
       "  - Evening coffee shop visit at The Bulldog cafe followed by a canal cruise.\n",
       "\n",
       "- **Day 2: Saturday, February 22**\n",
       "  - Visit the Van Gogh Museum and Anne Frank House.\n",
       "  - Afternoon relaxation at Vondelpark, enjoy lunch in Jordaan.\n",
       "  - Evening at Barney's coffee shop and dining at Foodhallen.\n",
       "\n",
       "- **Day 3: Sunday, February 23**\n",
       "  - Morning cycling adventure in Waterland.\n",
       "  - Afternoon at A'DAM Lookout and De Pijp district.\n",
       "  - Depart for Milan in the evening.\n",
       "\n",
       "Please review your options and let me know if there is anything you'd like to proceed with or modify for your trip plans!"
      ],
      "text/plain": [
       "<IPython.core.display.Markdown object>"
      ]
     },
     "metadata": {},
     "output_type": "display_data"
    }
   ],
   "source": [
    "display(Markdown(res['final_summary']))"
   ]
  },
  {
   "cell_type": "code",
   "execution_count": null,
   "metadata": {},
   "outputs": [],
   "source": []
  }
 ],
 "metadata": {
  "kernelspec": {
   "display_name": ".tp",
   "language": "python",
   "name": "python3"
  },
  "language_info": {
   "codemirror_mode": {
    "name": "ipython",
    "version": 3
   },
   "file_extension": ".py",
   "mimetype": "text/x-python",
   "name": "python",
   "nbconvert_exporter": "python",
   "pygments_lexer": "ipython3",
   "version": "3.12.9"
  }
 },
 "nbformat": 4,
 "nbformat_minor": 2
}
